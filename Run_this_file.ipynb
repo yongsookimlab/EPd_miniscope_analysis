{
 "cells": [
  {
   "cell_type": "markdown",
   "id": "ba981e73-a101-4405-9820-dbeefacbca73",
   "metadata": {},
   "source": [
    "<font size=5 color=orange>\n",
    "    oxtr_RUN_this_file <br>\n",
    "</font>\n",
    "<font size=3 color=orange>\n",
    "    author: Jay Pi <br>\n",
    "    created: Aug 02, 2022 <br>\n",
    "    updated: Feb 11, 2023 <br>\n",
    "</font>"
   ]
  },
  {
   "cell_type": "markdown",
   "id": "4aefee3e",
   "metadata": {},
   "source": [
    "<font size=2 color=orange>\n",
    "README <br>\n",
    "\n",
    "1) Organize your data folders under a ‘cellbase’ folder and name them in the following manner. Let’s say you have ‘single_intro’ data. <br>\n",
    "e.g.) <br>\n",
    "experiment: single introduction of a stranger <br>\n",
    "mouse name: oxtr1854 <br>\n",
    "session name: 220805, 220816 <br>\n",
    "…/single_intro/cellbase/oxtr1854/220805/ <br>\n",
    "…single_intro/cellbase/oxtr1854/220816/ <br>\n",
    "<br>\n",
    "2) Convert ‘TimeOfIntroduction_allexpts.xlsx’ to a ‘csv’ format, clean up the column names and locate them under ‘single_intro’ folder. Make sure there is no blank at the beginning or end of the column names. <br>\n",
    "<br>\n",
    "3) Make sure the filenames in the cellbase folders are all consistent with the 1st ournd experiments. For instance, 'single_intro' sessions should have the files that end with '...aftercontour.csv,'* while 'multi_intro' should have '...Strangers.csv'\n",
    "    <br>\n",
    "    <br>\n",
    "4) Run the following cells <br>\n",
    "\n",
    "</font>"
   ]
  },
  {
   "cell_type": "code",
   "execution_count": null,
   "id": "abad6f79",
   "metadata": {},
   "outputs": [],
   "source": [
    "from importlib import reload\n",
    "import warnings\n",
    "warnings.filterwarnings('ignore')\n",
    "import oxtr\n",
    "reload(oxtr)\n",
    "from oxtr import oxtr\n",
    "import matplotlib\n",
    "matplotlib.use('Agg') # turn off display\n",
    "\n",
    "path_data = 'D:/Data/oxtr/'"
   ]
  },
  {
   "cell_type": "markdown",
   "id": "dbcd1e3a",
   "metadata": {},
   "source": [
    "<font size=3 color=orange>\n",
    "    1. single_intro sessions\n",
    "</font>"
   ]
  },
  {
   "cell_type": "code",
   "execution_count": 1,
   "id": "6df4ef54-49eb-4c58-8328-ab3a7d0bf4d0",
   "metadata": {
    "scrolled": true
   },
   "outputs": [],
   "source": [
    "%%time\n",
    "is_multi=False\n",
    "\n",
    "ox = oxtr(is_multi, path_data)\n",
    "ox._1_preprocess()\n",
    "ox._2_plot_traces()\n",
    "ox._3_detect_peaks(tp=40, flg_plot=False)"
   ]
  },
  {
   "cell_type": "markdown",
   "id": "b30acdce",
   "metadata": {},
   "source": [
    "<font size=3 color=orange>\n",
    "    2. multi_intro session\n",
    "</font>"
   ]
  },
  {
   "cell_type": "code",
   "execution_count": 2,
   "id": "5697b283",
   "metadata": {},
   "outputs": [],
   "source": [
    "is_multi=True\n",
    "\n",
    "ox = oxtr(is_multi, path_data)\n",
    "ox._1_preprocess()\n",
    "ox._2_plot_traces()\n",
    "ox._3_detect_peaks(tp=40, flg_plot=False)"
   ]
  },
  {
   "cell_type": "code",
   "execution_count": null,
   "id": "243fa83e-a3ea-4db7-b0ce-0d473f8d4f20",
   "metadata": {},
   "outputs": [],
   "source": []
  }
 ],
 "metadata": {
  "kernelspec": {
   "display_name": "Python 3 (ipykernel)",
   "language": "python",
   "name": "python3"
  },
  "language_info": {
   "codemirror_mode": {
    "name": "ipython",
    "version": 3
   },
   "file_extension": ".py",
   "mimetype": "text/x-python",
   "name": "python",
   "nbconvert_exporter": "python",
   "pygments_lexer": "ipython3",
   "version": "3.11.8"
  }
 },
 "nbformat": 4,
 "nbformat_minor": 5
}
